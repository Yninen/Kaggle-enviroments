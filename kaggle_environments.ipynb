{
  "nbformat": 4,
  "nbformat_minor": 0,
  "metadata": {
    "colab": {
      "provenance": []
    },
    "kernelspec": {
      "name": "python3",
      "display_name": "Python 3"
    },
    "language_info": {
      "name": "python"
    }
  },
  "cells": [
    {
      "cell_type": "code",
      "execution_count": null,
      "metadata": {
        "id": "MXXTuy_o0sjk",
        "colab": {
          "base_uri": "https://localhost:8080/"
        },
        "outputId": "c4581fbe-6804-4586-8542-cc37429b2574"
      },
      "outputs": [
        {
          "output_type": "stream",
          "name": "stdout",
          "text": [
            "\u001b[?25l     \u001b[90m━━━━━━━━━━━━━━━━━━━━━━━━━━━━━━━━━━━━━━━━\u001b[0m \u001b[32m0.0/134.1 kB\u001b[0m \u001b[31m?\u001b[0m eta \u001b[36m-:--:--\u001b[0m\r\u001b[2K     \u001b[91m━━━━━━━━━━━━━━━━━━━━━━━━━━━━━━━━━━━━━━━\u001b[0m\u001b[91m╸\u001b[0m \u001b[32m133.1/134.1 kB\u001b[0m \u001b[31m96.5 MB/s\u001b[0m eta \u001b[36m0:00:01\u001b[0m\r\u001b[2K     \u001b[90m━━━━━━━━━━━━━━━━━━━━━━━━━━━━━━━━━━━━━━━━\u001b[0m \u001b[32m134.1/134.1 kB\u001b[0m \u001b[31m2.9 MB/s\u001b[0m eta \u001b[36m0:00:00\u001b[0m\n",
            "\u001b[?25h  Preparing metadata (setup.py) ... \u001b[?25l\u001b[?25hdone\n",
            "\u001b[2K   \u001b[90m━━━━━━━━━━━━━━━━━━━━━━━━━━━━━━━━━━━━━━━━\u001b[0m \u001b[32m1.3/1.3 MB\u001b[0m \u001b[31m10.0 MB/s\u001b[0m eta \u001b[36m0:00:00\u001b[0m\n",
            "\u001b[2K   \u001b[90m━━━━━━━━━━━━━━━━━━━━━━━━━━━━━━━━━━━━━━━━\u001b[0m \u001b[32m953.8/953.8 kB\u001b[0m \u001b[31m26.1 MB/s\u001b[0m eta \u001b[36m0:00:00\u001b[0m\n",
            "\u001b[2K   \u001b[90m━━━━━━━━━━━━━━━━━━━━━━━━━━━━━━━━━━━━━━━━\u001b[0m \u001b[32m840.2/840.2 kB\u001b[0m \u001b[31m20.4 MB/s\u001b[0m eta \u001b[36m0:00:00\u001b[0m\n",
            "\u001b[2K   \u001b[90m━━━━━━━━━━━━━━━━━━━━━━━━━━━━━━━━━━━━━━━━\u001b[0m \u001b[32m178.7/178.7 kB\u001b[0m \u001b[31m8.2 MB/s\u001b[0m eta \u001b[36m0:00:00\u001b[0m\n",
            "\u001b[?25h  Building wheel for vec-noise (setup.py) ... \u001b[?25l\u001b[?25hdone\n"
          ]
        }
      ],
      "source": [
        "!pip install -q -U kaggle_environments"
      ]
    },
    {
      "cell_type": "code",
      "source": [
        "import numpy as np\n",
        "import pandas as pd\n",
        "import random\n",
        "\n",
        "import matplotlib.pyplot as plt\n",
        "import seaborn as sns\n",
        "\n",
        "from kaggle_environments import make, evaluate"
      ],
      "metadata": {
        "id": "yz23vWHD0wcj",
        "colab": {
          "base_uri": "https://localhost:8080/"
        },
        "outputId": "05b27a2b-b2b6-4f8a-e48e-fa71b7aad9f0"
      },
      "execution_count": null,
      "outputs": [
        {
          "output_type": "stream",
          "name": "stderr",
          "text": [
            "/usr/local/lib/python3.10/dist-packages/ipykernel/ipkernel.py:283: DeprecationWarning: `should_run_async` will not call `transform_cell` automatically in the future. Please pass the result to `transformed_cell` argument and any exception that happen during thetransform in `preprocessing_exc_tuple` in IPython 7.17 and above.\n",
            "  and should_run_async(code)\n"
          ]
        }
      ]
    },
    {
      "cell_type": "code",
      "source": [
        "ROCK = 0\n",
        "PAPER = 1\n",
        "SCISSORS = 2\n",
        "countForRPSCircle = 0  # Счетчик для rps_agent функции\n",
        "countScissors = 0      # Счетчик для without_scissors_agent функции\n",
        "\n",
        "\n",
        "# Стратегия 1\n",
        "def rock_agent(observation, configuration):\n",
        "    return ROCK\n",
        "\n",
        "\n",
        "# Стратегия 2\n",
        "def paper_agent(observation, configuration):\n",
        "    return PAPER\n",
        "\n",
        "\n",
        "# Стратегия 3\n",
        "def scissors_agent(observation, configuration):\n",
        "    return SCISSORS\n",
        "\n",
        "\n",
        "# Стратегия 4\n",
        "def rock_and_paper_agent(observation, configuration):\n",
        "  \"\"\"\n",
        "    Функция ставит камень каждую 3-ю итерацию.\n",
        "    В остальных случаях ставится бумага.\n",
        "  \"\"\"\n",
        "  if observation.step % 3 == 0: return ROCK\n",
        "  else: return PAPER\n",
        "\n",
        "\n",
        "# Стратегия 5\n",
        "def rock_and_scissors_agent(observation, configuration):\n",
        "  \"\"\"\n",
        "    Функция ставит камень каждую 4-ю итерацию.\n",
        "    В остальных случаях ставятся ножницы.\n",
        "  \"\"\"\n",
        "  if observation.step % 4 == 0: return ROCK\n",
        "  else: return SCISSORS\n",
        "\n",
        "\n",
        "# Стратегия 6\n",
        "def rps_agent(observation, configuration):\n",
        "  \"\"\" Функция по очереди ставит ножницы, камень, а затем бумагу. \"\"\"\n",
        "  global countForRPSCircle\n",
        "  if countForRPSCircle == 0:\n",
        "    countForRPSCircle += 1\n",
        "    return SCISSORS\n",
        "  elif countForRPSCircle == 1:\n",
        "    countForRPSCircle += 1\n",
        "    return ROCK\n",
        "  elif countForRPSCircle == 2:\n",
        "    countForRPSCircle = 0\n",
        "    return PAPER\n",
        "\n",
        "\n",
        "# Стратегия 7\n",
        "def copy_opponent_agent(observation, configuration):\n",
        "  \"\"\" Функция копирует предыдущее поведение оппонента \"\"\"\n",
        "  if observation.step > 0:\n",
        "      return observation.lastOpponentAction\n",
        "  else:\n",
        "      return random.randrange(0, configuration.signs)\n",
        "\n",
        "\n",
        "# Стратегия 8\n",
        "def without_scissors_agent(observation, configuration):\n",
        "  \"\"\"\n",
        "    Если оппонент поставил ножницы 2 раза вне зависимости от порядка,\n",
        "    функция ставит камень следующим ходом.\n",
        "    В остальных случаях функция ставит бумагу.\n",
        "  \"\"\"\n",
        "  global countScissors\n",
        "  if countScissors == 2:\n",
        "    countScissors = 0\n",
        "    return ROCK\n",
        "  elif observation.step > 0:\n",
        "    if observation.lastOpponentAction == SCISSORS:\n",
        "      countScissors += 1\n",
        "      return PAPER\n",
        "  else: return PAPER\n",
        "\n",
        "\n",
        "# Стратегия 9\n",
        "def s5p3r_agent(observation, configuration):\n",
        "  \"\"\"\n",
        "    Функция ставит ножницы каждую 5-ю итерацию.\n",
        "    Каждую третью итерацию функия ставит бумагу.\n",
        "    В остальных случаях ставится камень.\n",
        "  \"\"\"\n",
        "  if observation.step % 5 == 0: return SCISSORS\n",
        "  elif observation.step % 3 == 0: return PAPER\n",
        "  else: return ROCK\n",
        "\n",
        "\n",
        "# Стратегия 10\n",
        "def random_agent(observation, configuration):\n",
        "  return random.randrange(0, 3)\n",
        "\n",
        "\n",
        "# Стратегия 11\n",
        "def random10_agent(observation, configuration):\n",
        "  \"\"\"\n",
        "  Если количество итерация больше 10, функция ставит камень.\n",
        "  В остальных случаях возвращаемое значение случайно.\n",
        "  \"\"\"\n",
        "  if observation.step > 10: return ROCK\n",
        "  else: return random.randrange(0, 3)\n",
        "\n",
        "\n",
        "# Стратегия 12\n",
        "def scissors50_agent(observation, configuration):\n",
        "  \"\"\"\n",
        "  Если количество итерация меньше 50, функция ставит ножницы.\n",
        "  В остальных случаях функция ставит бумагу.\n",
        "  \"\"\"\n",
        "  if observation.step < 50: return SCISSORS\n",
        "  else: return PAPER\n",
        "\n",
        "\n",
        "# Стратегия 13\n",
        "def rock90_agent(observation, configuration):\n",
        "  \"\"\"\n",
        "  Если количество итерация больше 90, функция ставит камень.\n",
        "  В остальных случаях возвращаемое значение ножницы.\n",
        "  \"\"\"\n",
        "  if observation.step > 90: return ROCK\n",
        "  else: return SCISSORS\n",
        "\n",
        "\n",
        "list_of_functions = []\n",
        "list_of_functions.append(rock_agent)\n",
        "list_of_functions.append(paper_agent)\n",
        "list_of_functions.append(scissors_agent)\n",
        "list_of_functions.append(rock_and_paper_agent)\n",
        "list_of_functions.append(rock_and_scissors_agent)\n",
        "list_of_functions.append(rps_agent)\n",
        "list_of_functions.append(copy_opponent_agent)\n",
        "list_of_functions.append(without_scissors_agent)\n",
        "list_of_functions.append(s5p3r_agent)\n",
        "list_of_functions.append(random_agent)\n",
        "list_of_functions.append(random10_agent)\n",
        "list_of_functions.append(scissors50_agent)\n",
        "list_of_functions.append(rock90_agent)\n",
        "\n",
        "\n",
        "def compareFunc(list):\n",
        "  \"\"\"\n",
        "  Функция для сравнения стратегий\n",
        "    arg list - список со стратегиями\n",
        "  \"\"\"\n",
        "\n",
        "  listResult = []  # Список с суммарными победами стратегий\n",
        "\n",
        "  for iNum, i in enumerate(list):\n",
        "    print(\"Идет сравнение стратегии №{}\".format(iNum + 1))\n",
        "    winCount = 0     # Число побед для конкретной стратегии\n",
        "    for j in list:\n",
        "      listTmp = evaluate(\"rps\", [i, j], configuration={\"episodeSteps\": 100})\n",
        "      if listTmp[0][0] > listTmp[0][1]:  # Если первая стратегия победила\n",
        "        winCount += int(listTmp[0][0])\n",
        "    listResult.append(winCount)\n",
        "  print(\"\\n\")\n",
        "  print(listResult)\n",
        "  print( \"Самая успешная стратегия - стратегия №{}\".format( listResult.index( max( listResult ) ) + 1 ) )\n",
        "  print( \"Наиболее проигрышная стратегия - стратегия №{}\".format( listResult.index( min( listResult ) ) + 1 ) )"
      ],
      "metadata": {
        "id": "bqTqV7B92rJ6",
        "colab": {
          "base_uri": "https://localhost:8080/"
        },
        "outputId": "fe76701a-cbdc-4d2f-9375-88806ca21a88"
      },
      "execution_count": null,
      "outputs": [
        {
          "output_type": "stream",
          "name": "stderr",
          "text": [
            "/usr/local/lib/python3.10/dist-packages/ipykernel/ipkernel.py:283: DeprecationWarning: `should_run_async` will not call `transform_cell` automatically in the future. Please pass the result to `transformed_cell` argument and any exception that happen during thetransform in `preprocessing_exc_tuple` in IPython 7.17 and above.\n",
            "  and should_run_async(code)\n"
          ]
        }
      ]
    },
    {
      "cell_type": "code",
      "source": [
        "compareFunc(list_of_functions)"
      ],
      "metadata": {
        "colab": {
          "base_uri": "https://localhost:8080/"
        },
        "id": "U9qG_uYBd7Ux",
        "outputId": "fbc995a0-2c71-4a59-dadf-2c10a92af3ad"
      },
      "execution_count": null,
      "outputs": [
        {
          "output_type": "stream",
          "name": "stdout",
          "text": [
            "Идет сравнение стратегии №1\n",
            "Идет сравнение стратегии №2\n",
            "Идет сравнение стратегии №3\n",
            "Идет сравнение стратегии №4\n",
            "Идет сравнение стратегии №5\n",
            "Идет сравнение стратегии №6\n",
            "Идет сравнение стратегии №7\n",
            "Идет сравнение стратегии №8\n",
            "Идет сравнение стратегии №9\n",
            "Идет сравнение стратегии №10\n",
            "Идет сравнение стратегии №11\n",
            "Идет сравнение стратегии №12\n",
            "Идет сравнение стратегии №13\n",
            "\n",
            "\n",
            "[264, 350, 216, 275, 135, 149, 0, 31, 75, 0, 238, 148, 169]\n",
            "Самая успешная стратегия - стратегия №2\n",
            "Наиболее проигрышная стратегия - стратегия №7\n"
          ]
        }
      ]
    }
  ]
}